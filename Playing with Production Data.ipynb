{
 "cells": [
  {
   "cell_type": "markdown",
   "id": "78ad0c83-ae27-43f1-8fe6-1598b2a9dcd8",
   "metadata": {},
   "source": [
    "# Pulling Data from the ODP API\n",
    "Now the data is stored in ODP, we can test to see if its working and start to think about how we might analyse it. To make things a bit more managable, you might want to filter the data by county and year so lets make a something to help with that. We then use this input to filter the data we pull from the API."
   ]
  },
  {
   "cell_type": "code",
   "execution_count": 49,
   "id": "ced7b92e-66ba-4655-b374-febea3fd180b",
   "metadata": {},
   "outputs": [],
   "source": [
    "import requests\n",
    "import ipywidgets as widgets\n",
    "import json\n",
    "import pandas as pd"
   ]
  },
  {
   "cell_type": "code",
   "execution_count": 50,
   "id": "15c74e80-40f5-47a4-a6f2-68e2235c30ae",
   "metadata": {},
   "outputs": [],
   "source": [
    "token = requests.post(\"http://localhost:8000/access_token\").json()['token']"
   ]
  },
  {
   "cell_type": "code",
   "execution_count": 51,
   "id": "447b9378-950a-4fd0-8fc0-d50b97d1ee54",
   "metadata": {},
   "outputs": [],
   "source": [
    "headers = {\n",
    "    \"Authorization\": f\"Bearer {token}\",\n",
    "    \"Content-Type\": \"application/json\",\n",
    "    \"X-ODP-CHUNKED-ENCODING\": \"false\"\n",
    "}\n",
    "base_url = \"https://api.hubocean.earth\"\n",
    "dataset_name = \"overview-of-the-live-stock-1998-2022\" # Use the existing name or make-your-own-computer-friendly-name"
   ]
  },
  {
   "cell_type": "code",
   "execution_count": 52,
   "id": "71e007d5-668d-4d25-b68a-e31181ad958d",
   "metadata": {},
   "outputs": [
    {
     "data": {
      "application/vnd.jupyter.widget-view+json": {
       "model_id": "8a6ff40582724f7cabd8921cde33bedd",
       "version_major": 2,
       "version_minor": 0
      },
      "text/plain": [
       "IntSlider(value=2022, continuous_update=False, description='Select Year:', max=2030, min=1998)"
      ]
     },
     "metadata": {},
     "output_type": "display_data"
    },
    {
     "data": {
      "application/vnd.jupyter.widget-view+json": {
       "model_id": "b6ad18b7ebfe4e5eb3fcfe07b433a132",
       "version_major": 2,
       "version_minor": 0
      },
      "text/plain": [
       "Dropdown(description='Select County:', options=('Troms og Finnmark', 'Nordland', 'Trøndelag', 'Møre og Romsdal…"
      ]
     },
     "metadata": {},
     "output_type": "display_data"
    },
    {
     "data": {
      "application/vnd.jupyter.widget-view+json": {
       "model_id": "9cfe8c34da3b4dfda753e60f54bcaa59",
       "version_major": 2,
       "version_minor": 0
      },
      "text/plain": [
       "Dropdown(description='Select Species:', options=('Atlantic Salmon', 'Rainbow Trout'), value='Atlantic Salmon')"
      ]
     },
     "metadata": {},
     "output_type": "display_data"
    }
   ],
   "source": [
    "# Create some query variables\n",
    "county_list = [\n",
    "    'Troms og Finnmark',\n",
    "    'Nordland',\n",
    "    'Trøndelag',\n",
    "    'Møre og Romsdal',\n",
    "    'Vestland',\n",
    "    'Rogaland',\n",
    "    'Øvrige fylker'\n",
    "]\n",
    "\n",
    "species_list = [\n",
    "    'Atlantic Salmon',\n",
    "    'Rainbow Trout'\n",
    "]\n",
    "\n",
    "# Define a dropdown widget for selecting the species\n",
    "species_dropdown = widgets.Dropdown(\n",
    "    options=species_list,\n",
    "    value=species_list[0],  # Set the default selected species\n",
    "    description='Select Species:',\n",
    "    disabled=False,\n",
    ")\n",
    "# Define a dropdown widget for selecting the county\n",
    "county_dropdown = widgets.Dropdown(\n",
    "    options=county_list,\n",
    "    value=county_list[0],  # Set the default selected county\n",
    "    description='Select County:',\n",
    "    disabled=False,\n",
    ")\n",
    "\n",
    "# Create a slider widget\n",
    "year_slider = widgets.IntSlider(\n",
    "    value=2022,  # Initial value\n",
    "    min=1998,    # Minimum year\n",
    "    max=2030,    # Maximum year\n",
    "    step=1,      # Step size\n",
    "    description='Select Year:',\n",
    "    continuous_update=False,  # Set to False to update only on slider release\n",
    "    disabled=False,\n",
    ")\n",
    "\n",
    "# Display the slider\n",
    "display(year_slider)\n",
    "\n",
    "# Display the county dropdown widget\n",
    "display(county_dropdown)\n",
    "    \n",
    "# Display the species dropdown widget\n",
    "display(species_dropdown)"
   ]
  },
  {
   "cell_type": "code",
   "execution_count": 53,
   "id": "06fe9d14-f2c0-4ff6-a51d-ec21c9143189",
   "metadata": {},
   "outputs": [
    {
     "name": "stdout",
     "output_type": "stream",
     "text": [
      "Troms og Finnmark\n",
      "2022\n"
     ]
    }
   ],
   "source": [
    "selected_county = county_dropdown.value\n",
    "selected_year = year_slider.value\n",
    "print(selected_county)\n",
    "print(selected_year)"
   ]
  },
  {
   "cell_type": "code",
   "execution_count": 54,
   "id": "0ab705f6-b1e4-41c3-a2ad-69ea29d2fc84",
   "metadata": {},
   "outputs": [
    {
     "name": "stdout",
     "output_type": "stream",
     "text": [
      "Request failed with status code 501 - {\"error\": \"Function 'equal' has no kernel matching input types (string, int16)\", \"request_id\": \"e36c61ad-830b-42a0-9163-21f8afad3825\"}\n"
     ]
    }
   ],
   "source": [
    "# Query for our dataset with the OQS syntax.\n",
    "\n",
    "resource_group = \"catalog.hubocean.io\"\n",
    "resource_type = \"dataset\"\n",
    "\n",
    "endpoint = f\"/data/{resource_group}/{resource_type}/{dataset_name}/list\"\n",
    "\n",
    "body = {\n",
    "            \"#EQUALS\": [\"$County\", selected_county]\n",
    "}\n",
    "\n",
    "body = {\n",
    "            \"#EQUALS\": [\"$Year\", selected_year]\n",
    "}\n",
    "\n",
    "\n",
    "url = base_url + endpoint\n",
    "response = requests.post(url, json=body, headers=headers)\n",
    "\n",
    "if response.status_code == 200:\n",
    "     json_response = response.json()\n",
    "\n",
    "else:\n",
    "    print(f\"Request failed with status code {response.status_code} - {response.text}\")\n",
    "    \n"
   ]
  },
  {
   "cell_type": "code",
   "execution_count": null,
   "id": "fc6e17e5-4871-4c28-b679-c0bdf92b361a",
   "metadata": {},
   "outputs": [],
   "source": []
  }
 ],
 "metadata": {
  "kernelspec": {
   "display_name": "Python 3 (ipykernel)",
   "language": "python",
   "name": "python3"
  },
  "language_info": {
   "codemirror_mode": {
    "name": "ipython",
    "version": 3
   },
   "file_extension": ".py",
   "mimetype": "text/x-python",
   "name": "python",
   "nbconvert_exporter": "python",
   "pygments_lexer": "ipython3",
   "version": "3.10.10"
  }
 },
 "nbformat": 4,
 "nbformat_minor": 5
}
